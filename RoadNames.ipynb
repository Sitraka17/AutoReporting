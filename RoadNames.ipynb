{
  "nbformat": 4,
  "nbformat_minor": 0,
  "metadata": {
    "colab": {
      "provenance": [],
      "authorship_tag": "ABX9TyMoIAU4MYqB6spMenItYscV",
      "include_colab_link": true
    },
    "kernelspec": {
      "name": "python3",
      "display_name": "Python 3"
    },
    "language_info": {
      "name": "python"
    }
  },
  "cells": [
    {
      "cell_type": "markdown",
      "metadata": {
        "id": "view-in-github",
        "colab_type": "text"
      },
      "source": [
        "<a href=\"https://colab.research.google.com/github/Sitraka17/AutoReporting/blob/main/RoadNames.ipynb\" target=\"_parent\"><img src=\"https://colab.research.google.com/assets/colab-badge.svg\" alt=\"Open In Colab\"/></a>"
      ]
    },
    {
      "cell_type": "code",
      "execution_count": 1,
      "metadata": {
        "colab": {
          "base_uri": "https://localhost:8080/"
        },
        "id": "oCt_odVGQvAL",
        "outputId": "7cf38110-091e-4e88-8a14-e8c717ad03da"
      },
      "outputs": [
        {
          "output_type": "stream",
          "name": "stdout",
          "text": [
            "Requirement already satisfied: geopandas in /usr/local/lib/python3.10/dist-packages (0.13.2)\n",
            "Collecting contextily\n",
            "  Downloading contextily-1.6.0-py3-none-any.whl (17 kB)\n",
            "Requirement already satisfied: matplotlib in /usr/local/lib/python3.10/dist-packages (3.7.1)\n",
            "Requirement already satisfied: fiona>=1.8.19 in /usr/local/lib/python3.10/dist-packages (from geopandas) (1.9.6)\n",
            "Requirement already satisfied: packaging in /usr/local/lib/python3.10/dist-packages (from geopandas) (24.0)\n",
            "Requirement already satisfied: pandas>=1.1.0 in /usr/local/lib/python3.10/dist-packages (from geopandas) (2.0.3)\n",
            "Requirement already satisfied: pyproj>=3.0.1 in /usr/local/lib/python3.10/dist-packages (from geopandas) (3.6.1)\n",
            "Requirement already satisfied: shapely>=1.7.1 in /usr/local/lib/python3.10/dist-packages (from geopandas) (2.0.4)\n",
            "Requirement already satisfied: geopy in /usr/local/lib/python3.10/dist-packages (from contextily) (2.3.0)\n",
            "Collecting mercantile (from contextily)\n",
            "  Downloading mercantile-1.2.1-py3-none-any.whl (14 kB)\n",
            "Requirement already satisfied: pillow in /usr/local/lib/python3.10/dist-packages (from contextily) (9.4.0)\n",
            "Collecting rasterio (from contextily)\n",
            "  Downloading rasterio-1.3.10-cp310-cp310-manylinux2014_x86_64.whl (21.5 MB)\n",
            "\u001b[2K     \u001b[90m━━━━━━━━━━━━━━━━━━━━━━━━━━━━━━━━━━━━━━━━\u001b[0m \u001b[32m21.5/21.5 MB\u001b[0m \u001b[31m5.7 MB/s\u001b[0m eta \u001b[36m0:00:00\u001b[0m\n",
            "\u001b[?25hRequirement already satisfied: requests in /usr/local/lib/python3.10/dist-packages (from contextily) (2.31.0)\n",
            "Requirement already satisfied: joblib in /usr/local/lib/python3.10/dist-packages (from contextily) (1.4.2)\n",
            "Requirement already satisfied: xyzservices in /usr/local/lib/python3.10/dist-packages (from contextily) (2024.4.0)\n",
            "Requirement already satisfied: contourpy>=1.0.1 in /usr/local/lib/python3.10/dist-packages (from matplotlib) (1.2.1)\n",
            "Requirement already satisfied: cycler>=0.10 in /usr/local/lib/python3.10/dist-packages (from matplotlib) (0.12.1)\n",
            "Requirement already satisfied: fonttools>=4.22.0 in /usr/local/lib/python3.10/dist-packages (from matplotlib) (4.51.0)\n",
            "Requirement already satisfied: kiwisolver>=1.0.1 in /usr/local/lib/python3.10/dist-packages (from matplotlib) (1.4.5)\n",
            "Requirement already satisfied: numpy>=1.20 in /usr/local/lib/python3.10/dist-packages (from matplotlib) (1.25.2)\n",
            "Requirement already satisfied: pyparsing>=2.3.1 in /usr/local/lib/python3.10/dist-packages (from matplotlib) (3.1.2)\n",
            "Requirement already satisfied: python-dateutil>=2.7 in /usr/local/lib/python3.10/dist-packages (from matplotlib) (2.8.2)\n",
            "Requirement already satisfied: attrs>=19.2.0 in /usr/local/lib/python3.10/dist-packages (from fiona>=1.8.19->geopandas) (23.2.0)\n",
            "Requirement already satisfied: certifi in /usr/local/lib/python3.10/dist-packages (from fiona>=1.8.19->geopandas) (2024.2.2)\n",
            "Requirement already satisfied: click~=8.0 in /usr/local/lib/python3.10/dist-packages (from fiona>=1.8.19->geopandas) (8.1.7)\n",
            "Requirement already satisfied: click-plugins>=1.0 in /usr/local/lib/python3.10/dist-packages (from fiona>=1.8.19->geopandas) (1.1.1)\n",
            "Requirement already satisfied: cligj>=0.5 in /usr/local/lib/python3.10/dist-packages (from fiona>=1.8.19->geopandas) (0.7.2)\n",
            "Requirement already satisfied: six in /usr/local/lib/python3.10/dist-packages (from fiona>=1.8.19->geopandas) (1.16.0)\n",
            "Requirement already satisfied: pytz>=2020.1 in /usr/local/lib/python3.10/dist-packages (from pandas>=1.1.0->geopandas) (2023.4)\n",
            "Requirement already satisfied: tzdata>=2022.1 in /usr/local/lib/python3.10/dist-packages (from pandas>=1.1.0->geopandas) (2024.1)\n",
            "Requirement already satisfied: geographiclib<3,>=1.52 in /usr/local/lib/python3.10/dist-packages (from geopy->contextily) (2.0)\n",
            "Collecting affine (from rasterio->contextily)\n",
            "  Downloading affine-2.4.0-py3-none-any.whl (15 kB)\n",
            "Collecting snuggs>=1.4.1 (from rasterio->contextily)\n",
            "  Downloading snuggs-1.4.7-py3-none-any.whl (5.4 kB)\n",
            "Requirement already satisfied: setuptools in /usr/local/lib/python3.10/dist-packages (from rasterio->contextily) (67.7.2)\n",
            "Requirement already satisfied: charset-normalizer<4,>=2 in /usr/local/lib/python3.10/dist-packages (from requests->contextily) (3.3.2)\n",
            "Requirement already satisfied: idna<4,>=2.5 in /usr/local/lib/python3.10/dist-packages (from requests->contextily) (3.7)\n",
            "Requirement already satisfied: urllib3<3,>=1.21.1 in /usr/local/lib/python3.10/dist-packages (from requests->contextily) (2.0.7)\n",
            "Installing collected packages: snuggs, mercantile, affine, rasterio, contextily\n",
            "Successfully installed affine-2.4.0 contextily-1.6.0 mercantile-1.2.1 rasterio-1.3.10 snuggs-1.4.7\n"
          ]
        }
      ],
      "source": [
        "!pip install geopandas contextily matplotlib"
      ]
    },
    {
      "cell_type": "code",
      "source": [
        "# Télécharger les fichiers shapefiles nécessaires\n",
        "!wget https://download.geofabrik.de/europe/france/ile-de-france-latest-free.shp.zip -O ile-de-france-latest-free.shp.zip\n",
        "!wget https://opendata.paris.fr/explore/dataset/arrondissements/download/?format=shp&timezone=Europe/Berlin&lang=fr -O arrondissements-paris-shp.zip\n",
        "\n",
        "# Extraire les fichiers shapefiles\n",
        "!unzip ile-de-france-latest-free.shp.zip -d ile_de_france_shapefiles\n",
        "!unzip arrondissements-paris-shp.zip -d arrondissements_shapefiles\n"
      ],
      "metadata": {
        "colab": {
          "base_uri": "https://localhost:8080/"
        },
        "id": "PlF3iSykQ0Ty",
        "outputId": "1d606fbe-fbe4-4a42-da2e-2d90df7b3c6d"
      },
      "execution_count": 2,
      "outputs": [
        {
          "output_type": "stream",
          "name": "stdout",
          "text": [
            "--2024-05-19 14:31:08--  https://download.geofabrik.de/europe/france/ile-de-france-latest-free.shp.zip\n",
            "Resolving download.geofabrik.de (download.geofabrik.de)... 65.109.50.43, 65.109.48.72, 2a01:4f9:5a:2797::2, ...\n",
            "Connecting to download.geofabrik.de (download.geofabrik.de)|65.109.50.43|:443... connected.\n",
            "HTTP request sent, awaiting response... 200 OK\n",
            "Length: 507835202 (484M) [application/zip]\n",
            "Saving to: ‘ile-de-france-latest-free.shp.zip’\n",
            "\n",
            "ile-de-france-lates 100%[===================>] 484.31M  1.19MB/s    in 6m 6s   \n",
            "\n",
            "2024-05-19 14:37:15 (1.32 MB/s) - ‘ile-de-france-latest-free.shp.zip’ saved [507835202/507835202]\n",
            "\n",
            "/bin/bash: line 1: -O: command not found\n",
            "--2024-05-19 14:37:15--  https://opendata.paris.fr/explore/dataset/arrondissements/download/?format=shp\n",
            "Resolving opendata.paris.fr (opendata.paris.fr)... 34.249.199.226, 34.248.20.69\n",
            "Connecting to opendata.paris.fr (opendata.paris.fr)|34.249.199.226|:443... connected.\n",
            "HTTP request sent, awaiting response... 200 OK\n",
            "Length: 58394 (57K) [application/zip]\n",
            "Saving to: ‘index.html?format=shp’\n",
            "\n",
            "index.html?format=s 100%[===================>]  57.03K   244KB/s    in 0.2s    \n",
            "\n",
            "2024-05-19 14:37:17 (244 KB/s) - ‘index.html?format=shp’ saved [58394/58394]\n",
            "\n",
            "Archive:  ile-de-france-latest-free.shp.zip\n",
            "  inflating: ile_de_france_shapefiles/README  \n",
            " extracting: ile_de_france_shapefiles/gis_osm_buildings_a_free_1.cpg  \n",
            "  inflating: ile_de_france_shapefiles/gis_osm_buildings_a_free_1.dbf  \n",
            "  inflating: ile_de_france_shapefiles/gis_osm_buildings_a_free_1.prj  \n",
            "  inflating: ile_de_france_shapefiles/gis_osm_buildings_a_free_1.shp  \n",
            "  inflating: ile_de_france_shapefiles/gis_osm_buildings_a_free_1.shx  \n",
            " extracting: ile_de_france_shapefiles/gis_osm_landuse_a_free_1.cpg  \n",
            "  inflating: ile_de_france_shapefiles/gis_osm_landuse_a_free_1.dbf  \n",
            "  inflating: ile_de_france_shapefiles/gis_osm_landuse_a_free_1.prj  \n",
            "  inflating: ile_de_france_shapefiles/gis_osm_landuse_a_free_1.shp  \n",
            "  inflating: ile_de_france_shapefiles/gis_osm_landuse_a_free_1.shx  \n",
            " extracting: ile_de_france_shapefiles/gis_osm_natural_a_free_1.cpg  \n",
            "  inflating: ile_de_france_shapefiles/gis_osm_natural_a_free_1.dbf  \n",
            "  inflating: ile_de_france_shapefiles/gis_osm_natural_a_free_1.prj  \n",
            "  inflating: ile_de_france_shapefiles/gis_osm_natural_a_free_1.shp  \n",
            "  inflating: ile_de_france_shapefiles/gis_osm_natural_a_free_1.shx  \n",
            " extracting: ile_de_france_shapefiles/gis_osm_natural_free_1.cpg  \n",
            "  inflating: ile_de_france_shapefiles/gis_osm_natural_free_1.dbf  \n",
            "  inflating: ile_de_france_shapefiles/gis_osm_natural_free_1.prj  \n",
            "  inflating: ile_de_france_shapefiles/gis_osm_natural_free_1.shp  \n",
            "  inflating: ile_de_france_shapefiles/gis_osm_natural_free_1.shx  \n",
            " extracting: ile_de_france_shapefiles/gis_osm_places_a_free_1.cpg  \n",
            "  inflating: ile_de_france_shapefiles/gis_osm_places_a_free_1.dbf  \n",
            "  inflating: ile_de_france_shapefiles/gis_osm_places_a_free_1.prj  \n",
            "  inflating: ile_de_france_shapefiles/gis_osm_places_a_free_1.shp  \n",
            "  inflating: ile_de_france_shapefiles/gis_osm_places_a_free_1.shx  \n",
            " extracting: ile_de_france_shapefiles/gis_osm_places_free_1.cpg  \n",
            "  inflating: ile_de_france_shapefiles/gis_osm_places_free_1.dbf  \n",
            "  inflating: ile_de_france_shapefiles/gis_osm_places_free_1.prj  \n",
            "  inflating: ile_de_france_shapefiles/gis_osm_places_free_1.shp  \n",
            "  inflating: ile_de_france_shapefiles/gis_osm_places_free_1.shx  \n",
            " extracting: ile_de_france_shapefiles/gis_osm_pofw_a_free_1.cpg  \n",
            "  inflating: ile_de_france_shapefiles/gis_osm_pofw_a_free_1.dbf  \n",
            "  inflating: ile_de_france_shapefiles/gis_osm_pofw_a_free_1.prj  \n",
            "  inflating: ile_de_france_shapefiles/gis_osm_pofw_a_free_1.shp  \n",
            "  inflating: ile_de_france_shapefiles/gis_osm_pofw_a_free_1.shx  \n",
            " extracting: ile_de_france_shapefiles/gis_osm_pofw_free_1.cpg  \n",
            "  inflating: ile_de_france_shapefiles/gis_osm_pofw_free_1.dbf  \n",
            "  inflating: ile_de_france_shapefiles/gis_osm_pofw_free_1.prj  \n",
            "  inflating: ile_de_france_shapefiles/gis_osm_pofw_free_1.shp  \n",
            "  inflating: ile_de_france_shapefiles/gis_osm_pofw_free_1.shx  \n",
            " extracting: ile_de_france_shapefiles/gis_osm_pois_a_free_1.cpg  \n",
            "  inflating: ile_de_france_shapefiles/gis_osm_pois_a_free_1.dbf  \n",
            "  inflating: ile_de_france_shapefiles/gis_osm_pois_a_free_1.prj  \n",
            "  inflating: ile_de_france_shapefiles/gis_osm_pois_a_free_1.shp  \n",
            "  inflating: ile_de_france_shapefiles/gis_osm_pois_a_free_1.shx  \n",
            " extracting: ile_de_france_shapefiles/gis_osm_pois_free_1.cpg  \n",
            "  inflating: ile_de_france_shapefiles/gis_osm_pois_free_1.dbf  \n",
            "  inflating: ile_de_france_shapefiles/gis_osm_pois_free_1.prj  \n",
            "  inflating: ile_de_france_shapefiles/gis_osm_pois_free_1.shp  \n",
            "  inflating: ile_de_france_shapefiles/gis_osm_pois_free_1.shx  \n",
            " extracting: ile_de_france_shapefiles/gis_osm_railways_free_1.cpg  \n",
            "  inflating: ile_de_france_shapefiles/gis_osm_railways_free_1.dbf  \n",
            "  inflating: ile_de_france_shapefiles/gis_osm_railways_free_1.prj  \n",
            "  inflating: ile_de_france_shapefiles/gis_osm_railways_free_1.shp  \n",
            "  inflating: ile_de_france_shapefiles/gis_osm_railways_free_1.shx  \n",
            " extracting: ile_de_france_shapefiles/gis_osm_roads_free_1.cpg  \n",
            "  inflating: ile_de_france_shapefiles/gis_osm_roads_free_1.dbf  \n",
            "  inflating: ile_de_france_shapefiles/gis_osm_roads_free_1.prj  \n",
            "  inflating: ile_de_france_shapefiles/gis_osm_roads_free_1.shp  \n",
            "  inflating: ile_de_france_shapefiles/gis_osm_roads_free_1.shx  \n",
            " extracting: ile_de_france_shapefiles/gis_osm_traffic_a_free_1.cpg  \n",
            "  inflating: ile_de_france_shapefiles/gis_osm_traffic_a_free_1.dbf  \n",
            "  inflating: ile_de_france_shapefiles/gis_osm_traffic_a_free_1.prj  \n",
            "  inflating: ile_de_france_shapefiles/gis_osm_traffic_a_free_1.shp  \n",
            "  inflating: ile_de_france_shapefiles/gis_osm_traffic_a_free_1.shx  \n",
            " extracting: ile_de_france_shapefiles/gis_osm_traffic_free_1.cpg  \n",
            "  inflating: ile_de_france_shapefiles/gis_osm_traffic_free_1.dbf  \n",
            "  inflating: ile_de_france_shapefiles/gis_osm_traffic_free_1.prj  \n",
            "  inflating: ile_de_france_shapefiles/gis_osm_traffic_free_1.shp  \n",
            "  inflating: ile_de_france_shapefiles/gis_osm_traffic_free_1.shx  \n",
            " extracting: ile_de_france_shapefiles/gis_osm_transport_a_free_1.cpg  \n",
            "  inflating: ile_de_france_shapefiles/gis_osm_transport_a_free_1.dbf  \n",
            "  inflating: ile_de_france_shapefiles/gis_osm_transport_a_free_1.prj  \n",
            "  inflating: ile_de_france_shapefiles/gis_osm_transport_a_free_1.shp  \n",
            "  inflating: ile_de_france_shapefiles/gis_osm_transport_a_free_1.shx  \n",
            " extracting: ile_de_france_shapefiles/gis_osm_transport_free_1.cpg  \n",
            "  inflating: ile_de_france_shapefiles/gis_osm_transport_free_1.dbf  \n",
            "  inflating: ile_de_france_shapefiles/gis_osm_transport_free_1.prj  \n",
            "  inflating: ile_de_france_shapefiles/gis_osm_transport_free_1.shp  \n",
            "  inflating: ile_de_france_shapefiles/gis_osm_transport_free_1.shx  \n",
            " extracting: ile_de_france_shapefiles/gis_osm_water_a_free_1.cpg  \n",
            "  inflating: ile_de_france_shapefiles/gis_osm_water_a_free_1.dbf  \n",
            "  inflating: ile_de_france_shapefiles/gis_osm_water_a_free_1.prj  \n",
            "  inflating: ile_de_france_shapefiles/gis_osm_water_a_free_1.shp  \n",
            "  inflating: ile_de_france_shapefiles/gis_osm_water_a_free_1.shx  \n",
            " extracting: ile_de_france_shapefiles/gis_osm_waterways_free_1.cpg  \n",
            "  inflating: ile_de_france_shapefiles/gis_osm_waterways_free_1.dbf  \n",
            "  inflating: ile_de_france_shapefiles/gis_osm_waterways_free_1.prj  \n",
            "  inflating: ile_de_france_shapefiles/gis_osm_waterways_free_1.shp  \n",
            "  inflating: ile_de_france_shapefiles/gis_osm_waterways_free_1.shx  \n",
            "unzip:  cannot find or open arrondissements-paris-shp.zip, arrondissements-paris-shp.zip.zip or arrondissements-paris-shp.zip.ZIP.\n"
          ]
        }
      ]
    },
    {
      "cell_type": "code",
      "source": [
        "import geopandas as gpd\n",
        "import matplotlib.pyplot as plt\n",
        "import contextily as ctx\n",
        "\n",
        "# Charger les données OpenStreetMap pour Paris (fichier des rues)\n",
        "paris_streets = gpd.read_file(\"ile_de_france_shapefiles/gis_osm_roads_free_1.shp\")\n",
        "\n",
        "# Charger les limites administratives de Paris (arrondissements)\n",
        "paris_boundary = gpd.read_file(\"arrondissements_shapefiles/arrondissements.shp\")\n",
        "\n",
        "# Assurer que les projections sont les mêmes\n",
        "paris_streets = paris_streets.to_crs(paris_boundary.crs)\n",
        "\n",
        "# Filtrer les rues dans les limites de Paris\n",
        "paris_streets = gpd.sjoin(paris_streets, paris_boundary, op='within')\n",
        "\n",
        "# Plot des rues\n",
        "fig, ax = plt.subplots(figsize=(15, 15))\n",
        "paris_streets.plot(ax=ax, color='blue', linewidth=0.5)\n",
        "\n",
        "# Ajouter des tuiles de fond de carte\n",
        "ctx.add_basemap(ax, source=ctx.providers.CartoDB.Positron, crs=paris_streets.crs.to_string())\n",
        "\n",
        "# Ajouter les noms des rues\n",
        "for idx, row in paris_streets.iterrows():\n",
        "    if row['name']:  # Vérifier que le nom de la rue existe\n",
        "        plt.text(row.geometry.centroid.x, row.geometry.centroid.y, s=row['name'], fontsize=5, color='red')\n",
        "\n",
        "plt.title('Noms des rues de Paris')\n",
        "plt.show()\n"
      ],
      "metadata": {
        "colab": {
          "base_uri": "https://localhost:8080/",
          "height": 633
        },
        "id": "xYaQ1reHQ0bj",
        "outputId": "3b5a0734-d459-4bcb-f1bb-a09e2cf737e5"
      },
      "execution_count": 3,
      "outputs": [
        {
          "output_type": "stream",
          "name": "stderr",
          "text": [
            "ERROR:fiona._env:arrondissements_shapefiles/arrondissements.shp: No such file or directory\n"
          ]
        },
        {
          "output_type": "error",
          "ename": "DriverError",
          "evalue": "arrondissements_shapefiles/arrondissements.shp: No such file or directory",
          "traceback": [
            "\u001b[0;31m---------------------------------------------------------------------------\u001b[0m",
            "\u001b[0;31mCPLE_OpenFailedError\u001b[0m                      Traceback (most recent call last)",
            "\u001b[0;32mfiona/ogrext.pyx\u001b[0m in \u001b[0;36mfiona.ogrext.gdal_open_vector\u001b[0;34m()\u001b[0m\n",
            "\u001b[0;32mfiona/_err.pyx\u001b[0m in \u001b[0;36mfiona._err.exc_wrap_pointer\u001b[0;34m()\u001b[0m\n",
            "\u001b[0;31mCPLE_OpenFailedError\u001b[0m: arrondissements_shapefiles/arrondissements.shp: No such file or directory",
            "\nDuring handling of the above exception, another exception occurred:\n",
            "\u001b[0;31mDriverError\u001b[0m                               Traceback (most recent call last)",
            "\u001b[0;32m<ipython-input-3-a8a3a5305a8e>\u001b[0m in \u001b[0;36m<cell line: 9>\u001b[0;34m()\u001b[0m\n\u001b[1;32m      7\u001b[0m \u001b[0;34m\u001b[0m\u001b[0m\n\u001b[1;32m      8\u001b[0m \u001b[0;31m# Charger les limites administratives de Paris (arrondissements)\u001b[0m\u001b[0;34m\u001b[0m\u001b[0;34m\u001b[0m\u001b[0m\n\u001b[0;32m----> 9\u001b[0;31m \u001b[0mparis_boundary\u001b[0m \u001b[0;34m=\u001b[0m \u001b[0mgpd\u001b[0m\u001b[0;34m.\u001b[0m\u001b[0mread_file\u001b[0m\u001b[0;34m(\u001b[0m\u001b[0;34m\"arrondissements_shapefiles/arrondissements.shp\"\u001b[0m\u001b[0;34m)\u001b[0m\u001b[0;34m\u001b[0m\u001b[0;34m\u001b[0m\u001b[0m\n\u001b[0m\u001b[1;32m     10\u001b[0m \u001b[0;34m\u001b[0m\u001b[0m\n\u001b[1;32m     11\u001b[0m \u001b[0;31m# Assurer que les projections sont les mêmes\u001b[0m\u001b[0;34m\u001b[0m\u001b[0;34m\u001b[0m\u001b[0m\n",
            "\u001b[0;32m/usr/local/lib/python3.10/dist-packages/geopandas/io/file.py\u001b[0m in \u001b[0;36m_read_file\u001b[0;34m(filename, bbox, mask, rows, engine, **kwargs)\u001b[0m\n\u001b[1;32m    279\u001b[0m             \u001b[0mpath_or_bytes\u001b[0m \u001b[0;34m=\u001b[0m \u001b[0mfilename\u001b[0m\u001b[0;34m\u001b[0m\u001b[0;34m\u001b[0m\u001b[0m\n\u001b[1;32m    280\u001b[0m \u001b[0;34m\u001b[0m\u001b[0m\n\u001b[0;32m--> 281\u001b[0;31m         return _read_file_fiona(\n\u001b[0m\u001b[1;32m    282\u001b[0m             \u001b[0mpath_or_bytes\u001b[0m\u001b[0;34m,\u001b[0m \u001b[0mfrom_bytes\u001b[0m\u001b[0;34m,\u001b[0m \u001b[0mbbox\u001b[0m\u001b[0;34m=\u001b[0m\u001b[0mbbox\u001b[0m\u001b[0;34m,\u001b[0m \u001b[0mmask\u001b[0m\u001b[0;34m=\u001b[0m\u001b[0mmask\u001b[0m\u001b[0;34m,\u001b[0m \u001b[0mrows\u001b[0m\u001b[0;34m=\u001b[0m\u001b[0mrows\u001b[0m\u001b[0;34m,\u001b[0m \u001b[0;34m**\u001b[0m\u001b[0mkwargs\u001b[0m\u001b[0;34m\u001b[0m\u001b[0;34m\u001b[0m\u001b[0m\n\u001b[1;32m    283\u001b[0m         )\n",
            "\u001b[0;32m/usr/local/lib/python3.10/dist-packages/geopandas/io/file.py\u001b[0m in \u001b[0;36m_read_file_fiona\u001b[0;34m(path_or_bytes, from_bytes, bbox, mask, rows, where, **kwargs)\u001b[0m\n\u001b[1;32m    320\u001b[0m \u001b[0;34m\u001b[0m\u001b[0m\n\u001b[1;32m    321\u001b[0m     \u001b[0;32mwith\u001b[0m \u001b[0mfiona_env\u001b[0m\u001b[0;34m(\u001b[0m\u001b[0;34m)\u001b[0m\u001b[0;34m:\u001b[0m\u001b[0;34m\u001b[0m\u001b[0;34m\u001b[0m\u001b[0m\n\u001b[0;32m--> 322\u001b[0;31m         \u001b[0;32mwith\u001b[0m \u001b[0mreader\u001b[0m\u001b[0;34m(\u001b[0m\u001b[0mpath_or_bytes\u001b[0m\u001b[0;34m,\u001b[0m \u001b[0;34m**\u001b[0m\u001b[0mkwargs\u001b[0m\u001b[0;34m)\u001b[0m \u001b[0;32mas\u001b[0m \u001b[0mfeatures\u001b[0m\u001b[0;34m:\u001b[0m\u001b[0;34m\u001b[0m\u001b[0;34m\u001b[0m\u001b[0m\n\u001b[0m\u001b[1;32m    323\u001b[0m             \u001b[0mcrs\u001b[0m \u001b[0;34m=\u001b[0m \u001b[0mfeatures\u001b[0m\u001b[0;34m.\u001b[0m\u001b[0mcrs_wkt\u001b[0m\u001b[0;34m\u001b[0m\u001b[0;34m\u001b[0m\u001b[0m\n\u001b[1;32m    324\u001b[0m             \u001b[0;31m# attempt to get EPSG code\u001b[0m\u001b[0;34m\u001b[0m\u001b[0;34m\u001b[0m\u001b[0m\n",
            "\u001b[0;32m/usr/local/lib/python3.10/dist-packages/fiona/env.py\u001b[0m in \u001b[0;36mwrapper\u001b[0;34m(*args, **kwds)\u001b[0m\n\u001b[1;32m    455\u001b[0m \u001b[0;34m\u001b[0m\u001b[0m\n\u001b[1;32m    456\u001b[0m         \u001b[0;32mwith\u001b[0m \u001b[0menv_ctor\u001b[0m\u001b[0;34m(\u001b[0m\u001b[0msession\u001b[0m\u001b[0;34m=\u001b[0m\u001b[0msession\u001b[0m\u001b[0;34m)\u001b[0m\u001b[0;34m:\u001b[0m\u001b[0;34m\u001b[0m\u001b[0;34m\u001b[0m\u001b[0m\n\u001b[0;32m--> 457\u001b[0;31m             \u001b[0;32mreturn\u001b[0m \u001b[0mf\u001b[0m\u001b[0;34m(\u001b[0m\u001b[0;34m*\u001b[0m\u001b[0margs\u001b[0m\u001b[0;34m,\u001b[0m \u001b[0;34m**\u001b[0m\u001b[0mkwds\u001b[0m\u001b[0;34m)\u001b[0m\u001b[0;34m\u001b[0m\u001b[0;34m\u001b[0m\u001b[0m\n\u001b[0m\u001b[1;32m    458\u001b[0m \u001b[0;34m\u001b[0m\u001b[0m\n\u001b[1;32m    459\u001b[0m     \u001b[0;32mreturn\u001b[0m \u001b[0mwrapper\u001b[0m\u001b[0;34m\u001b[0m\u001b[0;34m\u001b[0m\u001b[0m\n",
            "\u001b[0;32m/usr/local/lib/python3.10/dist-packages/fiona/__init__.py\u001b[0m in \u001b[0;36mopen\u001b[0;34m(fp, mode, driver, schema, crs, encoding, layer, vfs, enabled_drivers, crs_wkt, allow_unsupported_drivers, **kwargs)\u001b[0m\n\u001b[1;32m    290\u001b[0m \u001b[0;34m\u001b[0m\u001b[0m\n\u001b[1;32m    291\u001b[0m         \u001b[0;32mif\u001b[0m \u001b[0mmode\u001b[0m \u001b[0;32min\u001b[0m \u001b[0;34m(\u001b[0m\u001b[0;34m\"a\"\u001b[0m\u001b[0;34m,\u001b[0m \u001b[0;34m\"r\"\u001b[0m\u001b[0;34m)\u001b[0m\u001b[0;34m:\u001b[0m\u001b[0;34m\u001b[0m\u001b[0;34m\u001b[0m\u001b[0m\n\u001b[0;32m--> 292\u001b[0;31m             colxn = Collection(\n\u001b[0m\u001b[1;32m    293\u001b[0m                 \u001b[0mpath\u001b[0m\u001b[0;34m,\u001b[0m\u001b[0;34m\u001b[0m\u001b[0;34m\u001b[0m\u001b[0m\n\u001b[1;32m    294\u001b[0m                 \u001b[0mmode\u001b[0m\u001b[0;34m,\u001b[0m\u001b[0;34m\u001b[0m\u001b[0;34m\u001b[0m\u001b[0m\n",
            "\u001b[0;32m/usr/local/lib/python3.10/dist-packages/fiona/collection.py\u001b[0m in \u001b[0;36m__init__\u001b[0;34m(self, path, mode, driver, schema, crs, encoding, layer, vsi, archive, enabled_drivers, crs_wkt, ignore_fields, ignore_geometry, include_fields, wkt_version, allow_unsupported_drivers, **kwargs)\u001b[0m\n\u001b[1;32m    241\u001b[0m             \u001b[0;32mif\u001b[0m \u001b[0mself\u001b[0m\u001b[0;34m.\u001b[0m\u001b[0mmode\u001b[0m \u001b[0;34m==\u001b[0m \u001b[0;34m\"r\"\u001b[0m\u001b[0;34m:\u001b[0m\u001b[0;34m\u001b[0m\u001b[0;34m\u001b[0m\u001b[0m\n\u001b[1;32m    242\u001b[0m                 \u001b[0mself\u001b[0m\u001b[0;34m.\u001b[0m\u001b[0msession\u001b[0m \u001b[0;34m=\u001b[0m \u001b[0mSession\u001b[0m\u001b[0;34m(\u001b[0m\u001b[0;34m)\u001b[0m\u001b[0;34m\u001b[0m\u001b[0;34m\u001b[0m\u001b[0m\n\u001b[0;32m--> 243\u001b[0;31m                 \u001b[0mself\u001b[0m\u001b[0;34m.\u001b[0m\u001b[0msession\u001b[0m\u001b[0;34m.\u001b[0m\u001b[0mstart\u001b[0m\u001b[0;34m(\u001b[0m\u001b[0mself\u001b[0m\u001b[0;34m,\u001b[0m \u001b[0;34m**\u001b[0m\u001b[0mkwargs\u001b[0m\u001b[0;34m)\u001b[0m\u001b[0;34m\u001b[0m\u001b[0;34m\u001b[0m\u001b[0m\n\u001b[0m\u001b[1;32m    244\u001b[0m             \u001b[0;32melif\u001b[0m \u001b[0mself\u001b[0m\u001b[0;34m.\u001b[0m\u001b[0mmode\u001b[0m \u001b[0;32min\u001b[0m \u001b[0;34m(\u001b[0m\u001b[0;34m\"a\"\u001b[0m\u001b[0;34m,\u001b[0m \u001b[0;34m\"w\"\u001b[0m\u001b[0;34m)\u001b[0m\u001b[0;34m:\u001b[0m\u001b[0;34m\u001b[0m\u001b[0;34m\u001b[0m\u001b[0m\n\u001b[1;32m    245\u001b[0m                 \u001b[0mself\u001b[0m\u001b[0;34m.\u001b[0m\u001b[0msession\u001b[0m \u001b[0;34m=\u001b[0m \u001b[0mWritingSession\u001b[0m\u001b[0;34m(\u001b[0m\u001b[0;34m)\u001b[0m\u001b[0;34m\u001b[0m\u001b[0;34m\u001b[0m\u001b[0m\n",
            "\u001b[0;32mfiona/ogrext.pyx\u001b[0m in \u001b[0;36mfiona.ogrext.Session.start\u001b[0;34m()\u001b[0m\n",
            "\u001b[0;32mfiona/ogrext.pyx\u001b[0m in \u001b[0;36mfiona.ogrext.gdal_open_vector\u001b[0;34m()\u001b[0m\n",
            "\u001b[0;31mDriverError\u001b[0m: arrondissements_shapefiles/arrondissements.shp: No such file or directory"
          ]
        }
      ]
    },
    {
      "cell_type": "code",
      "source": [],
      "metadata": {
        "id": "qTFAmHO3Q5qh"
      },
      "execution_count": null,
      "outputs": []
    }
  ]
}